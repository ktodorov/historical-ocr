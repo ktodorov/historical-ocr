{
 "cells": [
  {
   "cell_type": "code",
   "execution_count": 1,
   "metadata": {},
   "outputs": [],
   "source": [
    "import os\r\n",
    "import re\r\n",
    "import string\r\n",
    "from tqdm import tqdm\r\n",
    "from scipy.spatial.distance import cdist\r\n",
    "\r\n",
    "from nltk.tokenize import RegexpTokenizer\r\n",
    "\r\n",
    "import sys\r\n",
    "sys.path.insert(0, '..')\r\n",
    "\r\n",
    "from enums.language import Language\r\n",
    "from enums.configuration import Configuration\r\n",
    "from enums.ocr_output_type import OCROutputType"
   ]
  },
  {
   "cell_type": "code",
   "execution_count": 2,
   "metadata": {},
   "outputs": [],
   "source": [
    "# Load data\r\n",
    "\r\n",
    "def get_folder_paths(language: Language):\r\n",
    "    newseye_path = os.path.join('..', 'data', 'newseye')\r\n",
    "    icdar_2017_path = os.path.join(newseye_path, '2017', 'full')\r\n",
    "    icdar_2019_path = os.path.join(newseye_path, '2019', 'full')\r\n",
    "\r\n",
    "    result = None\r\n",
    "    if language == Language.English:\r\n",
    "        result = [\r\n",
    "            os.path.join(icdar_2017_path, 'eng_monograph'),\r\n",
    "            os.path.join(icdar_2017_path, 'eng_periodical'),\r\n",
    "            os.path.join(icdar_2019_path, 'EN')\r\n",
    "        ]\r\n",
    "    elif language == Language.Dutch:\r\n",
    "        result = [\r\n",
    "            os.path.join(icdar_2019_path, 'NL', 'NL1')\r\n",
    "        ]\r\n",
    "    elif language == Language.French:\r\n",
    "        result = [\r\n",
    "            os.path.join(icdar_2017_path, 'fr_monograph'),\r\n",
    "            os.path.join(icdar_2017_path, 'fr_periodical'),\r\n",
    "            os.path.join(icdar_2019_path, 'FR', 'FR1'),\r\n",
    "            os.path.join(icdar_2019_path, 'FR', 'FR2'),\r\n",
    "            os.path.join(icdar_2019_path, 'FR', 'FR3')\r\n",
    "        ]\r\n",
    "    elif language == Language.German:\r\n",
    "        result = [\r\n",
    "            os.path.join(icdar_2019_path, 'DE', 'DE1'),\r\n",
    "            os.path.join(icdar_2019_path, 'DE', 'DE2'),\r\n",
    "            os.path.join(icdar_2019_path, 'DE', 'DE3'),\r\n",
    "            os.path.join(icdar_2019_path, 'DE', 'DE4'),\r\n",
    "            os.path.join(icdar_2019_path, 'DE', 'DE5'),\r\n",
    "            os.path.join(icdar_2019_path, 'DE', 'DE6'),\r\n",
    "            os.path.join(icdar_2019_path, 'DE', 'DE7')\r\n",
    "        ]\r\n",
    "\r\n",
    "    return result\r\n"
   ]
  },
  {
   "cell_type": "code",
   "execution_count": 3,
   "metadata": {},
   "outputs": [],
   "source": [
    "def read_documents(tokenizer, language: Language, ocr_output_type: OCROutputType):\r\n",
    "    documents = []\r\n",
    "\r\n",
    "    folder_paths = get_folder_paths(language)\r\n",
    "    for folder_path in folder_paths:\r\n",
    "        for filename in os.listdir(folder_path):\r\n",
    "            file_path = os.path.join(folder_path, filename)\r\n",
    "            with open(file_path, 'r', encoding='utf-8') as text_file:\r\n",
    "                file_lines = text_file.readlines()\r\n",
    "                gt_line = file_lines[2] if ocr_output_type == OCROutputType.GroundTruth else file_lines[1]\r\n",
    "                processed_line = gt_line[14:].replace('#', '').replace('@', '')\r\n",
    "\r\n",
    "                text_nonum = re.sub(r'\\d+', '', processed_line)\r\n",
    "                text_nopunct = \"\".join([char.lower() for char in text_nonum if char not in string.punctuation])\r\n",
    "                text_no_doublespace = re.sub('\\s+', ' ', text_nopunct).strip()\r\n",
    "                result = tokenizer.tokenize(text_no_doublespace)\r\n",
    "                documents.append(result)\r\n",
    "\r\n",
    "    return documents"
   ]
  },
  {
   "cell_type": "code",
   "execution_count": 4,
   "metadata": {},
   "outputs": [],
   "source": [
    "tokenizer = RegexpTokenizer(r'\\w+')"
   ]
  },
  {
   "cell_type": "code",
   "execution_count": null,
   "metadata": {},
   "outputs": [],
   "source": []
  },
  {
   "cell_type": "code",
   "execution_count": null,
   "metadata": {},
   "outputs": [],
   "source": []
  },
  {
   "cell_type": "code",
   "execution_count": 6,
   "metadata": {},
   "outputs": [],
   "source": [
    "for language in [Language.Dutch, Language.English, Language.French, Language.German]:\r\n",
    "    for ocr_output_type in OCROutputType:\r\n",
    "        glove_filepath = os.path.join('results', 'glove')\r\n",
    "        result_filepath = os.path.join(glove_filepath, f'{language.value}_{ocr_output_type.value}_corpus.txt')\r\n",
    "        if os.path.exists(result_filepath):\r\n",
    "            continue\r\n",
    "\r\n",
    "        documents = read_documents(tokenizer, language, ocr_output_type)\r\n",
    "\r\n",
    "        if not os.path.exists(glove_filepath):\r\n",
    "            os.mkdir(glove_filepath)\r\n",
    "\r\n",
    "        with open(result_filepath, 'w', encoding='utf-8') as result_file:\r\n",
    "            for document in documents:\r\n",
    "                document_str = ' '.join(document)\r\n",
    "                if len(document_str.strip()) == 0: continue\r\n",
    "\r\n",
    "                result_file.write(document_str)\r\n",
    "                result_file.write('\\n')"
   ]
  },
  {
   "cell_type": "code",
   "execution_count": 7,
   "metadata": {},
   "outputs": [],
   "source": [
    "import numpy as np\r\n",
    "import _pickle as pickle\r\n",
    "\r\n",
    "def save_python_obj(obj: object, path: str, name: str) -> bool:\r\n",
    "    try:\r\n",
    "        filepath = os.path.join(path, f'{name}.pickle')\r\n",
    "        with open(filepath, 'wb') as handle:\r\n",
    "            pickle.dump(obj, handle, protocol=-1)\r\n",
    "\r\n",
    "        return True\r\n",
    "    except Exception:\r\n",
    "        return False\r\n",
    "\r\n",
    "def load_python_obj(path: str, name: str, extension_included: bool = False) -> object:\r\n",
    "    obj = None\r\n",
    "    try:\r\n",
    "        extension = '' if extension_included else '.pickle'\r\n",
    "        filepath = os.path.join(path, f'{name}{extension}')\r\n",
    "        with (open(filepath, \"rb\")) as openfile:\r\n",
    "            obj = pickle.load(openfile)\r\n",
    "\r\n",
    "    except FileNotFoundError:\r\n",
    "        return None\r\n",
    "\r\n",
    "    return obj"
   ]
  },
  {
   "cell_type": "code",
   "execution_count": 8,
   "metadata": {},
   "outputs": [],
   "source": [
    "vectors_filepath = os.path.join('results', 'glove', 'vectors')\r\n",
    "\r\n",
    "vectors_by_words = load_python_obj(vectors_filepath, 'vectors-by-words')\r\n",
    "if vectors_by_words is None:\r\n",
    "    vectors_by_words = {}\r\n",
    "\r\n",
    "    for language in [Language.Dutch, Language.English, Language.French, Language.German]:\r\n",
    "        vectors_by_words[language] = {}\r\n",
    "        for ocr_output_type in OCROutputType:\r\n",
    "            vectors_by_words[language][ocr_output_type] = {}\r\n",
    "            filepath = os.path.join(vectors_filepath, f'{language.value}_{ocr_output_type.value.replace(\"-\", \"_\")}_vectors.txt')\r\n",
    "            with open(filepath, 'r', encoding='utf-8') as vectors_file:\r\n",
    "                for line in vectors_file.readlines():\r\n",
    "                    split_line = line.split()\r\n",
    "                    word = split_line[0]\r\n",
    "                    numbers = np.array([float(x) for x in split_line[1:]])\r\n",
    "\r\n",
    "                    vectors_by_words[language][ocr_output_type][word] = numbers\r\n",
    "\r\n",
    "\r\n",
    "    save_python_obj(vectors_by_words, vectors_filepath, 'vectors-by-words')"
   ]
  },
  {
   "cell_type": "code",
   "execution_count": 9,
   "metadata": {},
   "outputs": [
    {
     "name": "stdout",
     "output_type": "stream",
     "text": [
      "..\\.cache\\ocr-evaluation\\french\\ppmi\n",
      "..\\.cache\\ocr-evaluation\\german\\ppmi\n"
     ]
    }
   ],
   "source": [
    "unique_tokens = {}\r\n",
    "\r\n",
    "for language in [Language.Dutch, Language.English, Language.French, Language.German]:\r\n",
    "    unique_tokens[language] = None\r\n",
    "\r\n",
    "    for config in [Configuration.SkipGram, Configuration.CBOW, Configuration.PPMI]:\r\n",
    "        cache_path = os.path.join('..', '.cache', 'ocr-evaluation', language.value, config.value)\r\n",
    "        raw_vocab_obj = load_python_obj(cache_path, f'vocab-icdar-2017-icdar-2019-{OCROutputType.Raw.value}')\r\n",
    "        gt_vocab_obj = load_python_obj(cache_path, f'vocab-icdar-2017-icdar-2019-{OCROutputType.GroundTruth.value}')\r\n",
    "        if raw_vocab_obj is None or gt_vocab_obj is None:\r\n",
    "            print(cache_path)\r\n",
    "            continue\r\n",
    "\r\n",
    "        # extract the tokens from the vocabularies\r\n",
    "        raw_tokens = list(raw_vocab_obj[0].keys())[4:]\r\n",
    "        gt_tokens = list(gt_vocab_obj[0].keys())[4:]\r\n",
    "        intersected_tokens = list(set(raw_tokens) & set(gt_tokens))\r\n",
    "\r\n",
    "        if unique_tokens[language] is None:\r\n",
    "            unique_tokens[language] = intersected_tokens\r\n",
    "        else:\r\n",
    "            unique_tokens[language] = list(set(intersected_tokens) & set(unique_tokens[language]))"
   ]
  },
  {
   "cell_type": "code",
   "execution_count": 10,
   "metadata": {},
   "outputs": [],
   "source": [
    "_ = { language: {\r\n",
    "    word: idx for (idx, word) in enumerate(unique_tokens[language])\r\n",
    "}\r\n",
    "    for language in unique_tokens.keys()\r\n",
    "}"
   ]
  },
  {
   "cell_type": "code",
   "execution_count": 11,
   "metadata": {},
   "outputs": [
    {
     "name": "stderr",
     "output_type": "stream",
     "text": [
      "Processing tokens for 'french': 100%|██████████| 18391/18391 [57:12<00:00,  5.36it/s]\n",
      "Processing tokens for 'german': 100%|██████████| 8036/8036 [10:54<00:00, 12.28it/s]\n"
     ]
    }
   ],
   "source": [
    "overlaps = {}\r\n",
    "percentages = list(range(1, 101, 1))  # 1..20\r\n",
    "\r\n",
    "for language in [Language.Dutch, Language.English, Language.French, Language.German]:\r\n",
    "    words_amounts = [\r\n",
    "        int(len(unique_tokens[language]) * (float(percentage)/ 100))\r\n",
    "        for percentage in percentages]\r\n",
    "\r\n",
    "    max_n = max(words_amounts)\r\n",
    "\r\n",
    "    cached_name = f'overlaps_{language.value}_glove'\r\n",
    "    cached_value = load_python_obj('results', cached_name)\r\n",
    "    if cached_value is not None:\r\n",
    "        overlaps[language] = cached_value\r\n",
    "        continue\r\n",
    "\r\n",
    "    overlaps[language] = { percentage : { token: [] for token in unique_tokens[language] } for percentage in percentages }\r\n",
    "\r\n",
    "    raw_vectors = np.array([vectors_by_words[language][OCROutputType.Raw][word] for word in unique_tokens[language]])\r\n",
    "    raw_similarity = 1 - cdist(raw_vectors, raw_vectors, metric='cosine')\r\n",
    "    gt_vectors = np.array([vectors_by_words[language][OCROutputType.GroundTruth][word] for word in unique_tokens[language]])\r\n",
    "    gt_similarity = 1 - cdist(gt_vectors, gt_vectors, metric='cosine')\r\n",
    "\r\n",
    "    for token in tqdm(unique_tokens[language], desc=f'Processing tokens for \\'{language.value}\\'', total=len(unique_tokens[language])):\r\n",
    "        raw_indices = np.argsort(raw_similarity[_[language][token]])[::-1][:max_n]\r\n",
    "        gt_indices = np.argsort(gt_similarity[_[language][token]])[::-1][:max_n]\r\n",
    "\r\n",
    "        for n, percentage in zip(words_amounts, percentages):\r\n",
    "            current_gt = gt_indices[:n]\r\n",
    "            current_raw = raw_indices[:n]\r\n",
    "\r\n",
    "            current_overlaps = len(set(current_gt) & set(current_raw))\r\n",
    "            overlaps[language][percentage][token].append(current_overlaps)\r\n",
    "\r\n",
    "    save_python_obj(overlaps[language], 'results', cached_name)"
   ]
  },
  {
   "cell_type": "code",
   "execution_count": null,
   "metadata": {},
   "outputs": [],
   "source": []
  }
 ],
 "metadata": {
  "kernelspec": {
   "display_name": "historical-ocr",
   "language": "python",
   "name": "historical-ocr"
  },
  "language_info": {
   "codemirror_mode": {
    "name": "ipython",
    "version": 3
   },
   "file_extension": ".py",
   "mimetype": "text/x-python",
   "name": "python",
   "nbconvert_exporter": "python",
   "pygments_lexer": "ipython3",
   "version": "3.9.2"
  },
  "orig_nbformat": 2
 },
 "nbformat": 4,
 "nbformat_minor": 2
}