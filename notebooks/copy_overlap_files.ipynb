{
 "cells": [
  {
   "cell_type": "code",
   "execution_count": 1,
   "metadata": {},
   "outputs": [],
   "source": [
    "import os\n",
    "from shutil import copy2"
   ]
  },
  {
   "cell_type": "code",
   "execution_count": 2,
   "metadata": {},
   "outputs": [],
   "source": [
    "overlap_files = list(filter(lambda x: x.startswith('overlaps_'), os.listdir(os.path.join('results'))))"
   ]
  },
  {
   "cell_type": "code",
   "execution_count": null,
   "metadata": {},
   "outputs": [],
   "source": []
  },
  {
   "cell_type": "code",
   "execution_count": 3,
   "metadata": {},
   "outputs": [],
   "source": [
    "def combine_path(self, path: str, *paths: str, create_if_missing: bool = False) -> str:\n",
    "        if create_if_missing and not os.path.exists(path):\n",
    "            os.mkdir(path)\n",
    "\n",
    "        if paths is None or len(paths) == 0:\n",
    "            return path\n",
    "\n",
    "        final_path = path\n",
    "        for path_extension in paths:\n",
    "            final_path = os.path.join(final_path, path_extension)\n",
    "            if not os.path.exists(final_path):\n",
    "                if create_if_missing:\n",
    "                    os.mkdir(final_path)\n",
    "                else:\n",
    "                    raise Exception(f'Path \"{final_path}\" does not exist')\n",
    "\n",
    "        return final_path"
   ]
  },
  {
   "cell_type": "code",
   "execution_count": 4,
   "metadata": {},
   "outputs": [],
   "source": [
    "def copy_overlap_file(overlap_file: str):\n",
    "    filepath = os.path.join('results', overlap_file)\n",
    "    if not os.path.exists(filepath):\n",
    "        raise Exception('Overlap file does not exist')\n",
    "\n",
    "    if 'pretr' in overlap_file:\n",
    "        return\n",
    "\n",
    "    # processed_name = overlap_file.replace('neighbourhood-overlaps-', '').replace('-rnd', '').replace('.pickle', '')\n",
    "    processed_name = overlap_file.replace('overlaps_', '').replace('_random', '').replace('.pickle', '')\n",
    "    name_parts = processed_name.split('_')\n",
    "    if len(name_parts) != 3:\n",
    "        if 'glove' in name_parts:\n",
    "            name_parts.append('')\n",
    "        else:\n",
    "            return\n",
    "\n",
    "    language, model, lr_str = name_parts\n",
    "    if lr_str != '':\n",
    "        lr_str = f'-{lr_str}'\n",
    "\n",
    "    output_path = os.path.join(combine_path('..', '..', '.cache', 'ocr-evaluation', language, model, '1', create_if_missing=True), f'neighbourhood-overlaps{lr_str}-GT-vs-RAW.pickle')\n",
    "\n",
    "    # if os.path.exists(output_path):\n",
    "    #     return\n",
    "\n",
    "    copy2(filepath, output_path)\n",
    "\n",
    "for overlap_file in overlap_files:\n",
    "    copy_overlap_file(overlap_file)\n",
    "\n",
    "    # if 'skip' in overlap_file:\n",
    "    #     print(overlap_file)\n",
    "    #     break"
   ]
  },
  {
   "cell_type": "code",
   "execution_count": null,
   "metadata": {},
   "outputs": [],
   "source": []
  }
 ],
 "metadata": {
  "interpreter": {
   "hash": "8b75f3199d40dc5b32c50d7e73d50b0653ef4e42fc29a92d9ddb9ff9d4b03964"
  },
  "kernelspec": {
   "display_name": "Python 3.9.7 64-bit ('ocr': conda)",
   "name": "python3"
  },
  "language_info": {
   "codemirror_mode": {
    "name": "ipython",
    "version": 3
   },
   "file_extension": ".py",
   "mimetype": "text/x-python",
   "name": "python",
   "nbconvert_exporter": "python",
   "pygments_lexer": "ipython3",
   "version": "3.9.7"
  },
  "orig_nbformat": 4
 },
 "nbformat": 4,
 "nbformat_minor": 2
}
