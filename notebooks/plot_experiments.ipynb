{
 "cells": [
  {
   "cell_type": "code",
   "execution_count": 1,
   "metadata": {},
   "outputs": [],
   "source": [
    "import seaborn as sns\r\n",
    "from matplotlib import pyplot as plt\r\n",
    "import pandas as pd\r\n",
    "import numpy as np\r\n",
    "\r\n",
    "sns.set_theme()\r\n",
    "np.random.seed(0)"
   ]
  },
  {
   "cell_type": "code",
   "execution_count": 2,
   "metadata": {},
   "outputs": [
    {
     "data": {
      "text/html": [
       "<div>\n",
       "<style scoped>\n",
       "    .dataframe tbody tr th:only-of-type {\n",
       "        vertical-align: middle;\n",
       "    }\n",
       "\n",
       "    .dataframe tbody tr th {\n",
       "        vertical-align: top;\n",
       "    }\n",
       "\n",
       "    .dataframe thead th {\n",
       "        text-align: right;\n",
       "    }\n",
       "</style>\n",
       "<table border=\"1\" class=\"dataframe\">\n",
       "  <thead>\n",
       "    <tr style=\"text-align: right;\">\n",
       "      <th></th>\n",
       "      <th>year</th>\n",
       "      <th>month</th>\n",
       "      <th>passengers</th>\n",
       "    </tr>\n",
       "  </thead>\n",
       "  <tbody>\n",
       "    <tr>\n",
       "      <th>0</th>\n",
       "      <td>1949</td>\n",
       "      <td>Jan</td>\n",
       "      <td>112</td>\n",
       "    </tr>\n",
       "    <tr>\n",
       "      <th>1</th>\n",
       "      <td>1949</td>\n",
       "      <td>Feb</td>\n",
       "      <td>118</td>\n",
       "    </tr>\n",
       "    <tr>\n",
       "      <th>2</th>\n",
       "      <td>1949</td>\n",
       "      <td>Mar</td>\n",
       "      <td>132</td>\n",
       "    </tr>\n",
       "    <tr>\n",
       "      <th>3</th>\n",
       "      <td>1949</td>\n",
       "      <td>Apr</td>\n",
       "      <td>129</td>\n",
       "    </tr>\n",
       "    <tr>\n",
       "      <th>4</th>\n",
       "      <td>1949</td>\n",
       "      <td>May</td>\n",
       "      <td>121</td>\n",
       "    </tr>\n",
       "  </tbody>\n",
       "</table>\n",
       "</div>"
      ],
      "text/plain": [
       "   year month  passengers\n",
       "0  1949   Jan         112\n",
       "1  1949   Feb         118\n",
       "2  1949   Mar         132\n",
       "3  1949   Apr         129\n",
       "4  1949   May         121"
      ]
     },
     "execution_count": 2,
     "metadata": {},
     "output_type": "execute_result"
    }
   ],
   "source": [
    "flights = sns.load_dataset(\"flights\")\r\n",
    "flights.head()"
   ]
  },
  {
   "cell_type": "code",
   "execution_count": 3,
   "metadata": {},
   "outputs": [],
   "source": [
    "may_flights = flights.query(\"month == 'May'\")\r\n",
    "oct_flights = flights.query(\"month == 'Oct'\")\r\n",
    "june_flights = flights.query(\"month == 'Jun'\")"
   ]
  },
  {
   "cell_type": "code",
   "execution_count": 4,
   "metadata": {},
   "outputs": [],
   "source": [
    "\r\n",
    "\r\n",
    "from matplotlib.legend import Legend\r\n",
    "from matplotlib.lines import Line2D\r\n",
    "from matplotlib.patches import Patch\r\n",
    "import matplotlib.transforms as mtransforms\r\n",
    "import matplotlib.text as mtext"
   ]
  },
  {
   "cell_type": "code",
   "execution_count": 5,
   "metadata": {},
   "outputs": [],
   "source": [
    "class MyLine(Line2D):\r\n",
    "    def __init__(self, *args, **kwargs):\r\n",
    "        # we'll update the position when the line data is set\r\n",
    "        self.text = mtext.Text(0, 0, '')\r\n",
    "        super().__init__(*args, **kwargs)\r\n",
    "\r\n",
    "        # we can't access the label attr until *after* the line is\r\n",
    "        # initiated\r\n",
    "        self.text.set_text(self.get_label())\r\n",
    "\r\n",
    "    def set_figure(self, figure):\r\n",
    "        self.text.set_figure(figure)\r\n",
    "        super().set_figure(figure)\r\n",
    "\r\n",
    "    def set_axes(self, axes):\r\n",
    "        self.text.set_axes(axes)\r\n",
    "        super().set_axes(axes)\r\n",
    "\r\n",
    "    def set_transform(self, transform):\r\n",
    "        # 2 pixel offset\r\n",
    "        texttrans = transform + mtransforms.Affine2D().translate(2, 2)\r\n",
    "        self.text.set_transform(texttrans)\r\n",
    "        super().set_transform(transform)\r\n",
    "\r\n",
    "    def set_data(self, x, y):\r\n",
    "        if len(x):\r\n",
    "            self.text.set_position((x[-1], y[-1]))\r\n",
    "\r\n",
    "        super().set_data(x, y)\r\n",
    "\r\n",
    "    def draw(self, renderer):\r\n",
    "        # draw my label at the end of the line with 2 pixel offset\r\n",
    "        super().draw(renderer)\r\n",
    "        self.text.draw(renderer)"
   ]
  },
  {
   "cell_type": "code",
   "execution_count": 14,
   "metadata": {},
   "outputs": [
    {
     "data": {
      "text/plain": [
       "<matplotlib.legend.Legend at 0x222bcdc4d00>"
      ]
     },
     "execution_count": 14,
     "metadata": {},
     "output_type": "execute_result"
    },
    {
     "data": {
      "image/png": "[encoded data removed]",
      "text/plain": [
       "<Figure size 432x288 with 2 Axes>"
      ]
     },
     "metadata": {},
     "output_type": "display_data"
    }
   ],
   "source": [
    "fig, ax = plt.subplots()\r\n",
    "sns.lineplot(data=may_flights, x=\"year\", y=\"passengers\", ax=ax, label='may')\r\n",
    "sns.lineplot(data=june_flights, x=\"year\", y=\"passengers\", ax=ax, label='june')\r\n",
    "sns.lineplot(data=oct_flights, x=\"year\", y=\"passengers\", ax=ax, label='october')\r\n",
    "\r\n",
    "ax2 = plt.axes([0.25, 0.2, .3, .3], facecolor='y')\r\n",
    "sns.lineplot(data=may_flights, x=\"year\", y=\"passengers\", ax=ax2, legend=False)\r\n",
    "sns.lineplot(data=june_flights, x=\"year\", y=\"passengers\", ax=ax2, legend=False)\r\n",
    "g2 = sns.lineplot(data=oct_flights, x=\"year\", y=\"passengers\", ax=ax2, legend=False)\r\n",
    "g2.set(yticklabels=[])\r\n",
    "g2.set(xlabel=None)\r\n",
    "g2.set(ylabel=None)\r\n",
    "# ax2.set_title('zoom')\r\n",
    "ax2.set_xlim([1950,1952])\r\n",
    "ax2.set_ylim([100,200])\r\n",
    "\r\n",
    "from matplotlib.legend_handler import HandlerBase\r\n",
    "# params = {'legend.handlelength': 13}\r\n",
    "# plt.rcParams.update(params)\r\n",
    "\r\n",
    "class GroupObject(object):\r\n",
    "    def __init__(self, group_name, color):\r\n",
    "        self.group_name = group_name\r\n",
    "        self.color = color\r\n",
    "\r\n",
    "class GroupObjectHandler(HandlerBase):\r\n",
    "    def create_artists(self, legend, orig_handle,\r\n",
    "                       x0, y0, width, height, fontsize, trans):\r\n",
    "\r\n",
    "        title = mtext.Text(x0,y0, text=orig_handle.group_name)\r\n",
    "        fast_line = plt.Line2D([60,75], [(height/2), (height/2)], linestyle='solid', color=orig_handle.color)\r\n",
    "        fast_title = mtext.Text(80,0, text='fast')\r\n",
    "        slow_line = plt.Line2D([105,120], [(height/2), (height/2)], linestyle='dashed', color=orig_handle.color)\r\n",
    "        slow_title = mtext.Text(125,0, text='slow')\r\n",
    "\r\n",
    "        return [title, fast_line, fast_title, slow_line, slow_title]\r\n",
    "\r\n",
    "\r\n",
    "    # def legend_artist(self, legend, orig_handle, fontsize, handlebox):\r\n",
    "    #     x0, y0 = handlebox.xdescent, handlebox.ydescent\r\n",
    "        \r\n",
    "    #     c = MyLine([x0, 20], [y0, 0], label=orig_handle.group_name, c=orig_handle.color)\r\n",
    "    #     handlebox.add_artist(c)\r\n",
    "        \r\n",
    "    #     return c\r\n",
    "\r\n",
    "objects = [\r\n",
    "    GroupObject('BERT', 'goldenrod'),\r\n",
    "    GroupObject('ALBERT', 'forestgreen'),\r\n",
    "    GroupObject('CBOW', 'cadetblue'),\r\n",
    "    GroupObject('SkipGram', 'darkred'),\r\n",
    "    GroupObject('PPMI', 'black'),\r\n",
    "    GroupObject('GloVe', 'darkmagenta')\r\n",
    "]\r\n",
    "\r\n",
    "styles = ['-', '--', '-.', ':']\r\n",
    "\r\n",
    "ax.legend(objects, ['' for _ in objects],\r\n",
    "             loc='lower right', handler_map={GroupObject: GroupObjectHandler()}, handlelength=13)"
   ]
  },
  {
   "cell_type": "code",
   "execution_count": null,
   "metadata": {},
   "outputs": [],
   "source": []
  }
 ],
 "metadata": {
  "interpreter": {
   "hash": "cc29f658ddb1b0f0a648f4c47acf5938bc6d1ad3f68ae93354e191176a755a49"
  },
  "kernelspec": {
   "display_name": "Python 3.9.2 64-bit ('ocr-uva': conda)",
   "name": "python3"
  },
  "language_info": {
   "codemirror_mode": {
    "name": "ipython",
    "version": 3
   },
   "file_extension": ".py",
   "mimetype": "text/x-python",
   "name": "python",
   "nbconvert_exporter": "python",
   "pygments_lexer": "ipython3",
   "version": "3.9.2"
  },
  "orig_nbformat": 4
 },
 "nbformat": 4,
 "nbformat_minor": 2
}